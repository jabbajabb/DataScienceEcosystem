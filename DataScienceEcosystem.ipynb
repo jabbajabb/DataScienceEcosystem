{
 "cells": [
  {
   "cell_type": "markdown",
   "id": "fbd29e65-668c-41a1-ae00-3b71fe6db8c2",
   "metadata": {},
   "source": [
    "# Data Science Tools and Ecosystem"
   ]
  },
  {
   "cell_type": "markdown",
   "id": "23b27de2-71e6-4282-bc66-8eb0c64f76ac",
   "metadata": {},
   "source": [
    "**Objectives:**\n",
    "* List popular languages for Data Science\n",
    "* List Data Science Tools and Ecosystem\n",
    "* List of coomon librariesused by Data scientis\n"
   ]
  },
  {
   "cell_type": "markdown",
   "id": "f5d67caf-2fb9-41b0-9ebf-ea187ecab723",
   "metadata": {},
   "source": [
    "In this notebook, Data Science Tools and Ecosystem are summarized."
   ]
  },
  {
   "cell_type": "markdown",
   "id": "21fd86c2-ce6b-468d-ad99-cb76a464a601",
   "metadata": {
    "tags": []
   },
   "source": [
    "Some of the popular languages that Data Scientists use are:\n",
    "1. R\n",
    "2. Python\n",
    "3. java\n",
    "4. SQL\n",
    "5. SCALA\n",
    "6. C++\n",
    "7. Julia"
   ]
  },
  {
   "cell_type": "markdown",
   "id": "ff43c921-80b1-485c-948c-f8a73a037b7f",
   "metadata": {},
   "source": [
    "Some of the commonly used libraries used by Data Scientists include:\n",
    "1. pandas\n",
    "2. matplotlib\n",
    "3. numpy\n",
    "4. scikit-learn\n",
    "5. Apache Spark\n",
    "6. Tensor Flow\n",
    "7. keras\n"
   ]
  },
  {
   "cell_type": "markdown",
   "id": "dc0b3ae5-9f92-4926-86eb-10fb9e0a8d5b",
   "metadata": {
    "tags": []
   },
   "source": [
    "| Data Science Tools | \n",
    "| -------------|\n",
    "| Jupyter Environments | \n",
    "| Anaconda | \n",
    "| GitHub |"
   ]
  },
  {
   "cell_type": "markdown",
   "id": "2f2ad86b-5cfc-4eb4-9ea0-eb8bcfbf3eaf",
   "metadata": {
    "tags": []
   },
   "source": [
    "### Below are a few examples of evaluating arithmetic expressions in Python"
   ]
  },
  {
   "cell_type": "code",
   "execution_count": 12,
   "id": "eb06b4e8-0c43-4ef7-8ad8-56ab282fa9d1",
   "metadata": {
    "tags": []
   },
   "outputs": [
    {
     "data": {
      "text/plain": [
       "17"
      ]
     },
     "execution_count": 12,
     "metadata": {},
     "output_type": "execute_result"
    }
   ],
   "source": [
    "# This a simple arithmetic expression to mutiply then add integers\n",
    "(3*4)+5"
   ]
  },
  {
   "cell_type": "code",
   "execution_count": 10,
   "id": "59d9f3da-ce1f-44c3-a2ea-8db082eb710e",
   "metadata": {
    "tags": []
   },
   "outputs": [
    {
     "data": {
      "text/plain": [
       "3.3333333333333335"
      ]
     },
     "execution_count": 10,
     "metadata": {},
     "output_type": "execute_result"
    }
   ],
   "source": [
    "# This will convert 200 minutes to hours by diving by 60.\n",
    "200/60"
   ]
  },
  {
   "cell_type": "markdown",
   "id": "dcba35b1-32e6-4e55-a474-62e2a3d21f2a",
   "metadata": {
    "tags": []
   },
   "source": [
    "## Author \n",
    "Jacopo "
   ]
  }
 ],
 "metadata": {
  "kernelspec": {
   "display_name": "Python",
   "language": "python",
   "name": "conda-env-python-py"
  },
  "language_info": {
   "codemirror_mode": {
    "name": "ipython",
    "version": 3
   },
   "file_extension": ".py",
   "mimetype": "text/x-python",
   "name": "python",
   "nbconvert_exporter": "python",
   "pygments_lexer": "ipython3",
   "version": "3.7.12"
  }
 },
 "nbformat": 4,
 "nbformat_minor": 5
}
